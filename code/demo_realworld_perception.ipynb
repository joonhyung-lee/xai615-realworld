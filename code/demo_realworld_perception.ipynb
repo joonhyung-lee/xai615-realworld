{
 "cells": [
  {
   "attachments": {},
   "cell_type": "markdown",
   "metadata": {},
   "source": [
    "### Test `Unseen Object Clustering (UCN)` Network"
   ]
  },
  {
   "cell_type": "code",
   "execution_count": 7,
   "metadata": {},
   "outputs": [],
   "source": [
    "\"\"\"Test UCN on MuJoCo Scene\"\"\"\n",
    "\n",
    "import torch\n",
    "import torch.nn.parallel\n",
    "import torch.backends.cudnn as cudnn\n",
    "import torch.utils.data\n",
    "\n",
    "import cv2\n",
    "import torch.nn as nn\n",
    "import argparse\n",
    "import pprint\n",
    "import numpy as np\n",
    "import copy\n",
    "import subprocess\n",
    "\n"
   ]
  },
  {
   "attachments": {},
   "cell_type": "markdown",
   "metadata": {},
   "source": [
    "### Run the shell script of `UCN Network`"
   ]
  },
  {
   "cell_type": "code",
   "execution_count": 10,
   "metadata": {},
   "outputs": [
    {
     "name": "stderr",
     "output_type": "stream",
     "text": [
      "+ set -e\n",
      "+ export PYTHONUNBUFFERED=True\n",
      "+ PYTHONUNBUFFERED=True\n",
      "+ export CUDA_VISIBLE_DEVICES=0\n",
      "+ CUDA_VISIBLE_DEVICES=0\n",
      "+ outdir=./data/checkpoints\n",
      "+ ./ros/test_images_segmentation.py --gpu 0 --network seg_resnet34_8s_embedding --pretrained ./data/checkpoints/seg_resnet34_8s_embedding_cosine_rgbd_add_sampling_epoch_16.checkpoint.pth --pretrained_crop ./data/checkpoints/seg_resnet34_8s_embedding_cosine_rgbd_add_crop_sampling_epoch_16.checkpoint.pth --cfg experiments/cfgs/seg_resnet34_8s_embedding_cosine_rgbd_add_tabletop.yml\n",
      "Traceback (most recent call last):\n",
      "  File \"./ros/test_images_segmentation.py\", line 13, in <module>\n",
      "    import tf\n",
      "ModuleNotFoundError: No module named 'tf'\n"
     ]
    },
    {
     "data": {
      "text/plain": [
       "CompletedProcess(args=['cd ./../../UnseenObjectClustering; ./experiments/scripts/ros_seg_rgbd_add_test_segmentation_realsense.sh $GPU_ID 0'], returncode=1)"
      ]
     },
     "execution_count": 10,
     "metadata": {},
     "output_type": "execute_result"
    }
   ],
   "source": [
    "subprocess.run([\"cd ./../../UnseenObjectClustering; ./experiments/scripts/ros_seg_rgbd_add_test_segmentation_realsense.sh $GPU_ID 0\"], shell=True)\n"
   ]
  },
  {
   "cell_type": "code",
   "execution_count": 1,
   "metadata": {},
   "outputs": [
    {
     "ename": "ModuleNotFoundError",
     "evalue": "No module named 'rospy'",
     "output_type": "error",
     "traceback": [
      "\u001b[0;31m---------------------------------------------------------------------------\u001b[0m",
      "\u001b[0;31mModuleNotFoundError\u001b[0m                       Traceback (most recent call last)",
      "Cell \u001b[0;32mIn[1], line 4\u001b[0m\n\u001b[1;32m      2\u001b[0m \u001b[39mimport\u001b[39;00m \u001b[39msys\u001b[39;00m\n\u001b[1;32m      3\u001b[0m sys\u001b[39m.\u001b[39mpath\u001b[39m.\u001b[39mappend(\u001b[39m'\u001b[39m\u001b[39m../\u001b[39m\u001b[39m'\u001b[39m)\n\u001b[0;32m----> 4\u001b[0m \u001b[39mfrom\u001b[39;00m \u001b[39mmodel\u001b[39;00m\u001b[39m.\u001b[39;00m\u001b[39mutil_perception\u001b[39;00m \u001b[39mimport\u001b[39;00m get_cluster_points, list_to_pcd, pcl_to_ros\n\u001b[1;32m      5\u001b[0m \u001b[39mfrom\u001b[39;00m \u001b[39mmodel\u001b[39;00m\u001b[39m.\u001b[39;00m\u001b[39mrealsense435\u001b[39;00m \u001b[39mimport\u001b[39;00m RealsenseD435i,get_depth_img\n\u001b[1;32m      7\u001b[0m camera     \u001b[39m=\u001b[39m RealsenseD435i(mode\u001b[39m=\u001b[39m\u001b[39m'\u001b[39m\u001b[39mdepth\u001b[39m\u001b[39m'\u001b[39m)\n",
      "File \u001b[0;32m~/course/xai615-realworld/code/../model/util_perception.py:6\u001b[0m\n\u001b[1;32m      4\u001b[0m \u001b[39mimport\u001b[39;00m \u001b[39mctypes\u001b[39;00m\n\u001b[1;32m      5\u001b[0m \u001b[39mimport\u001b[39;00m \u001b[39mstruct\u001b[39;00m\n\u001b[0;32m----> 6\u001b[0m \u001b[39mimport\u001b[39;00m \u001b[39mrospy\u001b[39;00m \n\u001b[1;32m      7\u001b[0m \u001b[39mimport\u001b[39;00m \u001b[39mtorch\u001b[39;00m \n\u001b[1;32m      8\u001b[0m \u001b[39mimport\u001b[39;00m \u001b[39mtorch\u001b[39;00m\u001b[39m.\u001b[39;00m\u001b[39mnn\u001b[39;00m \u001b[39mas\u001b[39;00m \u001b[39mnn\u001b[39;00m \n",
      "\u001b[0;31mModuleNotFoundError\u001b[0m: No module named 'rospy'"
     ]
    }
   ],
   "source": [
    "import sys\n",
    "sys.path.append('../')\n",
    "from model.util_perception import get_cluster_points, list_to_pcd, pcl_to_ros\n",
    "from model.realsense435 import RealsenseD435i,get_depth_img\n",
    "\n",
    "camera     = RealsenseD435i(mode='depth')\n",
    "\n",
    "# 2. Clustering \n",
    "subprocess.run([\"cd ~/UnseenObjectClustering; ./experiments/scripts/ros_seg_rgbd_add_test_segmentation_realsense.sh $GPU_ID 0\"], shell=True)\n",
    "label_data = np.load('/home/rilab/UnseenObjectClustering/label_data.npy')\n",
    "depth_data = np.load('/home/rilab/UnseenObjectClustering/depth_data.npy') \n",
    "print(\"Clustering done.\")\n",
    "target_center_point, pc_total_point,cluster_cen_pose_lst = get_cluster_points(depth_pixel=depth_data, label_pixel=label_data, transform_mat=transform_mat)\n",
    "pc_total_point=list_to_pcd(pc_total_point)\n",
    "ros_msg = pcl_to_ros(pc_total_point, 'measured/camera_link')\n",
    "camera.cluster_publishser(ros_msg)\n",
    "print(\"Publish cluster points\")\n"
   ]
  },
  {
   "cell_type": "code",
   "execution_count": null,
   "metadata": {},
   "outputs": [],
   "source": []
  }
 ],
 "metadata": {
  "kernelspec": {
   "display_name": "Python 3",
   "language": "python",
   "name": "python3"
  },
  "language_info": {
   "codemirror_mode": {
    "name": "ipython",
    "version": 3
   },
   "file_extension": ".py",
   "mimetype": "text/x-python",
   "name": "python",
   "nbconvert_exporter": "python",
   "pygments_lexer": "ipython3",
   "version": "3.8.10"
  },
  "orig_nbformat": 4
 },
 "nbformat": 4,
 "nbformat_minor": 2
}
