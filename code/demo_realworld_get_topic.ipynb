{
 "cells": [
  {
   "attachments": {},
   "cell_type": "markdown",
   "metadata": {},
   "source": [
    "## Set `UR5` Robot"
   ]
  },
  {
   "cell_type": "code",
   "execution_count": 1,
   "metadata": {},
   "outputs": [
    {
     "name": "stdout",
     "output_type": "stream",
     "text": [
      "Done.\n"
     ]
    }
   ],
   "source": [
    "import time\n",
    "import rospy\n",
    "from sensor_msgs.msg import JointState\n",
    "print(\"Done.\")\n"
   ]
  },
  {
   "attachments": {},
   "cell_type": "markdown",
   "metadata": {},
   "source": [
    "##### You should run this line ahead.\n",
    "`roslaunch ur_modern_driver ur5_bringup.launch robot_ip:=192.168.0.100`  in terminal."
   ]
  },
  {
   "attachments": {},
   "cell_type": "markdown",
   "metadata": {},
   "source": [
    "#### Define `UR` Class"
   ]
  },
  {
   "cell_type": "code",
   "execution_count": 2,
   "metadata": {},
   "outputs": [],
   "source": [
    "class UR_Test():\n",
    "    def __init__(self):\n",
    "        self.tick = 0\n",
    "        self.joint_list = None \n",
    "        self.joint_sub = rospy.Subscriber('/joint_states', JointState, self.joint_callback)\n",
    "\n",
    "        tic_temp=0 \n",
    "\n",
    "        while self.tick<2: \n",
    "            time.sleep(1e-3)\n",
    "            tic_temp=tic_temp+1\n",
    "\n",
    "            if tic_temp>5000: \n",
    "                print (\"[ERROR] GET JOINTS\")\n",
    "                break \n",
    "            \n",
    "    def joint_callback(self, joint_msg):\n",
    "        \"\"\"\n",
    "            Get joint values about each joint.\n",
    "        \"\"\"\n",
    "        self.tick+=1 \n",
    "        self.joint_list = joint_msg "
   ]
  },
  {
   "cell_type": "code",
   "execution_count": 3,
   "metadata": {},
   "outputs": [
    {
     "name": "stdout",
     "output_type": "stream",
     "text": [
      "(-1.570521656666891, -2.311883111993307, 2.1441715399371546, 1.73920385419812, 0.7853929996490479, -1.5711215178119105)\n"
     ]
    }
   ],
   "source": [
    "rospy.init_node('test')\n",
    "ur_test = UR_Test()\n",
    "\n",
    "print(ur_test.joint_list.position)\n",
    "joint_value = ur_test.joint_list.position"
   ]
  }
 ],
 "metadata": {
  "kernelspec": {
   "display_name": "Python 3",
   "language": "python",
   "name": "python3"
  },
  "language_info": {
   "codemirror_mode": {
    "name": "ipython",
    "version": 3
   },
   "file_extension": ".py",
   "mimetype": "text/x-python",
   "name": "python",
   "nbconvert_exporter": "python",
   "pygments_lexer": "ipython3",
   "version": "3.8.10"
  },
  "orig_nbformat": 4,
  "vscode": {
   "interpreter": {
    "hash": "e7370f93d1d0cde622a1f8e1c04877d8463912d04d973331ad4851f04de6915a"
   }
  }
 },
 "nbformat": 4,
 "nbformat_minor": 2
}
