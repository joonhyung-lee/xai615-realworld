{
 "cells": [
  {
   "cell_type": "markdown",
   "metadata": {},
   "source": [
    "### Load Mujoco Engine"
   ]
  },
  {
   "cell_type": "code",
   "execution_count": 1,
   "metadata": {},
   "outputs": [
    {
     "name": "stdout",
     "output_type": "stream",
     "text": [
      "MuJoCo version:[2.3.4]\n"
     ]
    }
   ],
   "source": [
    "import mujoco\n",
    "import numpy as np\n",
    "import matplotlib.pyplot as plt\n",
    "\n",
    "import sys\n",
    "sys.path.append(\"..\")\n",
    "from model.mujoco_parser import MuJoCoParserClass\n",
    "from model.util import sample_xyzs,rpy2r,r2quat\n",
    "np.set_printoptions(precision=2,suppress=True,linewidth=100)\n",
    "plt.rc('xtick',labelsize=6); plt.rc('ytick',labelsize=6)\n",
    "%config InlineBackend.figure_format = 'retina'\n",
    "%matplotlib inline\n",
    "print (\"MuJoCo version:[%s]\"%(mujoco.__version__))"
   ]
  },
  {
   "attachments": {},
   "cell_type": "markdown",
   "metadata": {},
   "source": [
    "### Parse"
   ]
  },
  {
   "cell_type": "code",
   "execution_count": 2,
   "metadata": {},
   "outputs": [
    {
     "name": "stdout",
     "output_type": "stream",
     "text": [
      "dt:[0.0020] HZ:[500]\n",
      "n_body:[52]\n",
      "geom_names:['floor', None, None, None, None, None, 'ur_shoulder_link_collision', None, None, None, None, 'ur_upper_arm_link_1_collision', 'ur_upper_arm_link_2_collision', None, None, None, None, 'ur_forearm_link_1_collision', 'ur_forearm_link_2_collision', None, None, None, 'ur_wrist_1_link_collision', None, None, None, 'ur_wrist_2_link_1_collision', 'ur_wrist_2_link_2_collision', None, 'ur_wrist_3_link_collision', 'ur_tcp_link_collision', 'camera_mount_collision', 'camera_mounted_gear_collision', 'ur_rg2_gripper_base_link_collision', 'camera_center_collision', 'ur_rg2_gripper_finger1_finger_link_collision', 'ur_rg2_gripper_finger1_inner_knuckle_link_collision', 'ur_rg2_gripper_finger1_finger_tip_link_collision', 'ur_rg2_gripper_finger2_finger_link_collision', 'ur_rg2_gripper_finger2_inner_knuckle_link_collision', 'ur_rg2_gripper_finger2_finger_tip_link_collision', 'front_object_table', 'side_object_table', 'base_table', 'obj_cylinder_01', 'obj_cylinder_02', 'obj_cylinder_03', 'obj_cylinder_04', 'obj_cylinder_05', 'obj_cylinder_06', 'obj_cylinder_07', 'obj_cylinder_08']\n",
      "n_body:[29]\n",
      "body_names:['world', 'base', 'shoulder_link', 'upper_arm_link', 'forearm_link', 'wrist_1_link', 'ur_wrist_2_link_collision', 'wrist_3_link', 'tcp_link', 'camera_mount', 'rg2_gripper_base_link', 'camera_center', 'rg2_gripper_finger1_finger_link', 'rg2_gripper_finger1_inner_knuckle_link', 'rg2_gripper_finger1_finger_tip_link', 'rg2_gripper_finger2_finger_link', 'rg2_gripper_finger2_inner_knuckle_link', 'rg2_gripper_finger2_finger_tip_link', 'front_object_table', 'side_object_table', 'base_table', 'obj_cylinder_01', 'obj_cylinder_02', 'obj_cylinder_03', 'obj_cylinder_04', 'obj_cylinder_05', 'obj_cylinder_06', 'obj_cylinder_07', 'obj_cylinder_08']\n",
      "n_joint:[20]\n",
      "joint_names:['shoulder_pan_joint', 'shoulder_lift_joint', 'elbow_joint', 'wrist_1_joint', 'wrist_2_joint', 'wrist_3_joint', 'gripper_finger1_joint', 'gripper_finger1_inner_knuckle_joint', 'gripper_finger1_finger_tip_joint', 'gripper_finger2_joint', 'gripper_finger2_inner_knuckle_joint', 'gripper_finger2_finger_tip_joint', None, None, None, None, None, None, None, None]\n",
      "joint_types:[3 3 3 3 3 3 3 3 3 3 3 3 0 0 0 0 0 0 0 0]\n",
      "joint_ranges:\n",
      "[[-6.28  6.28]\n",
      " [-6.28  6.28]\n",
      " [-3.14  3.14]\n",
      " [-6.28  6.28]\n",
      " [-6.28  6.28]\n",
      " [-6.28  6.28]\n",
      " [-1.    0.  ]\n",
      " [-1.    0.  ]\n",
      " [-1.    1.  ]\n",
      " [ 0.    1.  ]\n",
      " [ 0.    1.  ]\n",
      " [-1.    1.  ]\n",
      " [-6.28  6.28]\n",
      " [-6.28  6.28]\n",
      " [-6.28  6.28]\n",
      " [-6.28  6.28]\n",
      " [-6.28  6.28]\n",
      " [-6.28  6.28]\n",
      " [-6.28  6.28]\n",
      " [-6.28  6.28]]\n",
      "n_rev_joint:[12]\n",
      "rev_joint_idxs:[ 0  1  2  3  4  5  6  7  8  9 10 11]\n",
      "rev_joint_names:['shoulder_pan_joint', 'shoulder_lift_joint', 'elbow_joint', 'wrist_1_joint', 'wrist_2_joint', 'wrist_3_joint', 'gripper_finger1_joint', 'gripper_finger1_inner_knuckle_joint', 'gripper_finger1_finger_tip_joint', 'gripper_finger2_joint', 'gripper_finger2_inner_knuckle_joint', 'gripper_finger2_finger_tip_joint']\n",
      "rev_joint_mins:[-6.28 -6.28 -3.14 -6.28 -6.28 -6.28 -1.   -1.   -1.    0.    0.   -1.  ]\n",
      "rev_joint_maxs:[6.28 6.28 3.14 6.28 6.28 6.28 0.   0.   1.   1.   1.   1.  ]\n",
      "rev_joint_ranges:[12.57 12.57  6.28 12.57 12.57 12.57  1.    1.    2.    1.    1.    2.  ]\n",
      "n_pri_joint:[0]\n",
      "pri_joint_idxs:[]\n",
      "pri_joint_names:[]\n",
      "pri_joint_mins:[]\n",
      "pri_joint_maxs:[]\n",
      "pri_joint_ranges:[]\n",
      "n_ctrl:[7]\n",
      "ctrl_names:['shoulder_pan', 'shoulder_lift', 'elbow', 'wrist_1', 'wrist_2', 'wrist_3', 'gripper']\n",
      "ctrl_joint_idxs:[0, 1, 2, 3, 4, 5, 9]\n",
      "ctrl_qvel_idxs:[0, 1, 2, 3, 4, 5, 9]\n",
      "ctrl_ranges:\n",
      "[[-6.28  6.28]\n",
      " [-6.28  6.28]\n",
      " [-3.14  3.14]\n",
      " [-6.28  6.28]\n",
      " [-6.28  6.28]\n",
      " [-6.28  6.28]\n",
      " [ 0.    1.  ]]\n",
      "n_sensor:[0]\n",
      "sensor_names:[]\n",
      "n_site:[1]\n",
      "site_names:['attachment_site']\n",
      "Ready.\n"
     ]
    }
   ],
   "source": [
    "xml_path = '../asset/ur5e/scene_ur5e_rg2_obj.xml'\n",
    "env = MuJoCoParserClass(name='UR5e with RG2 gripper',rel_xml_path=xml_path,VERBOSE=True)\n",
    "obj_names = [body_name for body_name in env.body_names\n",
    "             if body_name is not None and (body_name.startswith(\"obj_\"))]\n",
    "n_obj = len(obj_names)\n",
    "# Place objects in a row\n",
    "xyzs = sample_xyzs(n_sample=n_obj,\n",
    "                   x_range=[0.45,1.65],y_range=[-0.38,0.38],z_range=[0.81,0.81],min_dist=0.2)\n",
    "colors = np.array([plt.cm.gist_rainbow(x) for x in np.linspace(0,1,n_obj)])\n",
    "for obj_idx,obj_name in enumerate(obj_names):\n",
    "    jntadr = env.model.body(obj_name).jntadr[0]\n",
    "    env.model.joint(jntadr).qpos0[:3] = xyzs[obj_idx,:]\n",
    "    geomadr = env.model.body(obj_name).geomadr[0]\n",
    "    env.model.geom(geomadr).rgba = colors[obj_idx] # color\n",
    "\n",
    "# Move tables and robot base\n",
    "env.model.body('base_table').pos = np.array([0,0,0])\n",
    "env.model.body('front_object_table').pos = np.array([1.05,0,0])\n",
    "env.model.body('side_object_table').pos = np.array([0,-0.85,0])\n",
    "env.model.body('base').pos = np.array([0,0,0.8])\n",
    "print (\"Ready.\")"
   ]
  },
  {
   "attachments": {},
   "cell_type": "markdown",
   "metadata": {},
   "source": [
    "### Get gripper joint indexes"
   ]
  },
  {
   "cell_type": "code",
   "execution_count": 16,
   "metadata": {},
   "outputs": [
    {
     "name": "stdout",
     "output_type": "stream",
     "text": [
      "Gripper joint idxs: [6, 7, 8, 9, 10, 11]\n"
     ]
    }
   ],
   "source": [
    "gripper_joint_idxs = []\n",
    "\n",
    "for gripper_idx in env.rev_joint_idxs:\n",
    "    if gripper_idx not in env.idxs_forward:\n",
    "        gripper_joint_idxs.append(gripper_idx)\n",
    "print(f\"Gripper joint idxs: {gripper_joint_idxs}\")"
   ]
  },
  {
   "cell_type": "code",
   "execution_count": 17,
   "metadata": {},
   "outputs": [],
   "source": [
    "q_init = [-1.570521656666891, -2.311883111993307, 2.1441715399371546, 1.73920385419812, 0.7853929996490479, -1.5711215178119105]\n",
    "q_close_grasp = [-0.03, -0.0273, -0.03, 0.03, 0.0273, 0.03]"
   ]
  },
  {
   "attachments": {},
   "cell_type": "markdown",
   "metadata": {},
   "source": [
    "### `Collision` detection"
   ]
  },
  {
   "cell_type": "code",
   "execution_count": 18,
   "metadata": {},
   "outputs": [
    {
     "name": "stdout",
     "output_type": "stream",
     "text": [
      "Pressed ESC\n",
      "Quitting.\n",
      "Done.\n"
     ]
    }
   ],
   "source": [
    "env.init_viewer(viewer_title='Spawn Objects',viewer_width=1200,viewer_height=800,\n",
    "                viewer_hide_menus=True)\n",
    "env.update_viewer(azimuth=80,distance=2.5,elevation=-30,lookat=[0,0,1.5])\n",
    "env.update_viewer(VIS_TRANSPARENT=False) # transparent\n",
    "env.update_viewer(VIS_CONTACTPOINT=False,\n",
    "                  contactwidth=0.05,contactheight=0.05,contactrgba=np.array([1,0,0,1]))\n",
    "env.update_viewer(VIS_JOINT=True,jointlength=0.5,jointwidth=0.1,\n",
    "                  jointrgba=[0.2,0.6,0.8,0.6])\n",
    "env.reset() # reset\n",
    "\n",
    "# Open gripper (prismatic joints)\n",
    "env.forward(q=np.array([0,0,0,0,90,0])*np.pi/180.0,joint_idxs=env.idxs_forward)\n",
    "# Set the primary and the secondary IK targets\n",
    "ik_body_name = 'tcp_link'\n",
    "p_trgt = np.array([0.9, -0.1, 0.9])\n",
    "R_trgt = rpy2r(np.array([-180,0,180])*np.pi/180.0)\n",
    "\n",
    "# Loop\n",
    "q = env.get_q(joint_idxs=env.idxs_forward)\n",
    "imgs,img_ticks,max_tick = [],[],1000\n",
    "while (env.tick < max_tick) and env.is_viewer_alive():\n",
    "    # Get IK ingredients for the primary target\n",
    "    J,err = env.get_ik_ingredients(\n",
    "        body_name=ik_body_name,p_trgt=p_trgt,R_trgt=R_trgt,IK_P=True,IK_R=True)\n",
    "    dq = env.damped_ls(J,err,stepsize=1,eps=1e-1,th=5*np.pi/180.0)\n",
    "    # Update q and FK\n",
    "    q = q + dq[env.idxs_jacobian]\n",
    "    env.forward(q=q,joint_idxs=env.idxs_forward) # FK\n",
    "    env.forward(q=q_close_grasp, joint_idxs=gripper_joint_idxs)\n",
    "    # Get contact information\n",
    "    p_contacts,f_contacts,geom1s,geom2s = env.get_contact_info(\n",
    "        must_include_prefix='ur_')\n",
    "    # env.step(ctrl=np.array([1.0]), ctrl_idxs=6)\n",
    "\n",
    "    # Render\n",
    "    env.plot_T(p=env.get_p_body(body_name=ik_body_name),\n",
    "               R=env.get_R_body(body_name=ik_body_name),\n",
    "               PLOT_AXIS=True,axis_len=0.2,axis_width=0.005,PLOT_SPHERE=False)\n",
    "    env.plot_T(p=p_trgt,R=R_trgt,PLOT_AXIS=True,axis_len=0.2,axis_width=0.005,\n",
    "               PLOT_SPHERE=False)\n",
    "    # Render contact informations\n",
    "    for (p_contact,f_contact,geom1,geom2) in zip(p_contacts,f_contacts,geom1s,geom2s):\n",
    "        f_norm = np.linalg.norm(f_contact)\n",
    "        f_uv = f_contact / (f_norm+1e-8)\n",
    "        f_len = 0.3 # f_norm*0.05\n",
    "        env.plot_arrow(p=p_contact,uv=f_uv,r_stem=0.01,len_arrow=f_len,rgba=[1,0,0,1],\n",
    "                       label='')\n",
    "        env.plot_arrow(p=p_contact,uv=-f_uv,r_stem=0.01,len_arrow=f_len,rgba=[1,0,0,1],\n",
    "                       label='')\n",
    "        label = 'Contact point' # '[%s]-[%s]'%(geom1,geom2)\n",
    "        env.plot_sphere(p=p_contact,r=0.02,rgba=[1,0.2,0.2,1],label=label)\n",
    "    env.plot_T(p=[0,0,0],R=np.eye(3,3),PLOT_AXIS=True,axis_len=1.0)\n",
    "    env.render()\n",
    "    # Print and save image \n",
    "    if (env.tick)%(max_tick//10)==0 or (env.tick==1):\n",
    "        print (\"[%d/%d] IK error:[%.4f]\"%(env.tick,max_tick,np.linalg.norm(err)))\n",
    "        img = env.grab_image()\n",
    "        imgs.append(img)\n",
    "        img_ticks.append(env.tick)\n",
    "# Close viewer\n",
    "env.close_viewer()\n",
    "print (\"Done.\")"
   ]
  },
  {
   "cell_type": "code",
   "execution_count": 8,
   "metadata": {},
   "outputs": [
    {
     "name": "stdout",
     "output_type": "stream",
     "text": [
      "Done.\n"
     ]
    }
   ],
   "source": [
    "env.init_viewer(viewer_title='UR5e with RG2 gripper',viewer_width=1200,viewer_height=800,\n",
    "                viewer_hide_menus=True)\n",
    "env.update_viewer(azimuth=0.0,distance=3.5,elevation=-60,lookat=[0.4,0.05,0.36],\n",
    "                  VIS_TRANSPARENT=False,VIS_CONTACTPOINT=True,\n",
    "                  contactwidth=0.05,contactheight=0.05,contactrgba=np.array([1,0,0,1]),\n",
    "                  VIS_JOINT=True,jointlength=0.5,jointwidth=0.1,jointrgba=[0.2,0.6,0.8,0.6])\n",
    "env.reset()\n",
    "q_open = np.array([-0.33, -0.3 , -0.34,  0.38,  0.34,  0.36])\n",
    "env.forward(q=q_open, joint_idxs=np.array([6,7,8,9,10,11]))\n",
    "\n",
    "DO_RENDER = True\n",
    "body_name = 'tcp_link'\n",
    "\n",
    "p_contacts,f_contacts,geom1s,geom2s = env.get_contact_info(must_include_prefix='ur_')\n",
    "R_trgt = rpy2r(np.radians([-180,0,90]))\n",
    "\n",
    "while len(geom1s) == 2: # Break if there is only one contact: ur_rg2_gripper_finger1_finger_tip\n",
    "    print(len(geom1s))\n",
    "    print(geom1s)\n",
    "    x_rand = np.random.uniform(low=0.5,high=1)\n",
    "    y_rand = np.random.uniform(low=-0.3,high=0.3)\n",
    "    z_rand = np.random.uniform(low=0.85,high=1.2)\n",
    "    p_trgt = np.array([x_rand,y_rand,z_rand])\n",
    "\n",
    "    q_backup = env.get_q(joint_idxs=env.idxs_forward)\n",
    "    q = q_init.copy()\n",
    "    env.forward(q=q,joint_idxs=env.idxs_forward)\n",
    "    tick = 0\n",
    "    while True:\n",
    "        tick = tick + 1\n",
    "        J,err = env.get_ik_ingredients(\n",
    "            body_name=body_name,p_trgt=p_trgt,R_trgt=R_trgt,IK_P=True,IK_R=True)\n",
    "        dq = env.damped_ls(J,err,stepsize=1,eps=1e-1,th=1*np.pi/180.0)\n",
    "        q = q + dq[env.idxs_jacobian]\n",
    "        env.forward(q=q,joint_idxs=env.idxs_forward)\n",
    "        # Terminate condition\n",
    "        err_norm = np.linalg.norm(err)\n",
    "        if err_norm < 1e-3:\n",
    "            break\n",
    "        # Render\n",
    "        if DO_RENDER:\n",
    "            if ((tick-1)%1) == 0:\n",
    "                p_tcp,R_tcp = env.get_pR_body(body_name=body_name)\n",
    "                env.plot_T(p=p_tcp,R=R_tcp,PLOT_AXIS=True,axis_len=0.1,axis_width=0.005)\n",
    "                env.plot_T(p=p_trgt,R=R_trgt,PLOT_AXIS=True,axis_len=0.2,axis_width=0.005)\n",
    "                env.render()\n",
    "    # Back to back-uped position\n",
    "    q_ik = env.get_q(joint_idxs=env.idxs_forward)\n",
    "    env.forward(q=q_backup,joint_idxs=env.idxs_forward)\n",
    "    env.forward(q=q_open, joint_idxs=np.array([6,7,8,9,10,11]))\n",
    "\n",
    "    p_contacts,f_contacts,geom1s,geom2s = env.get_contact_info(must_include_prefix='ur_')\n",
    "\n",
    "# Close viewer\n",
    "env.close_viewer()\n",
    "print (\"Done.\")"
   ]
  },
  {
   "cell_type": "code",
   "execution_count": 10,
   "metadata": {},
   "outputs": [
    {
     "ename": "NameError",
     "evalue": "name 'q_ik' is not defined",
     "output_type": "error",
     "traceback": [
      "\u001b[0;31m---------------------------------------------------------------------------\u001b[0m",
      "\u001b[0;31mNameError\u001b[0m                                 Traceback (most recent call last)",
      "Cell \u001b[0;32mIn[10], line 14\u001b[0m\n\u001b[1;32m     12\u001b[0m \u001b[39mwhile\u001b[39;00m (env\u001b[39m.\u001b[39mget_sim_time() \u001b[39m<\u001b[39m \u001b[39m100.0\u001b[39m) \u001b[39mand\u001b[39;00m env\u001b[39m.\u001b[39mis_viewer_alive():\n\u001b[1;32m     13\u001b[0m     tick \u001b[39m=\u001b[39m tick \u001b[39m+\u001b[39m \u001b[39m1\u001b[39m\n\u001b[0;32m---> 14\u001b[0m     env\u001b[39m.\u001b[39mstep(ctrl\u001b[39m=\u001b[39mq_ik, ctrl_idxs\u001b[39m=\u001b[39menv\u001b[39m.\u001b[39midxs_forward)\n\u001b[1;32m     15\u001b[0m     \u001b[39m# Render\u001b[39;00m\n\u001b[1;32m     16\u001b[0m     p_tcp,R_tcp \u001b[39m=\u001b[39m env\u001b[39m.\u001b[39mget_pR_body(body_name\u001b[39m=\u001b[39m\u001b[39m'\u001b[39m\u001b[39mtcp_link\u001b[39m\u001b[39m'\u001b[39m)\n",
      "\u001b[0;31mNameError\u001b[0m: name 'q_ik' is not defined"
     ]
    },
    {
     "ename": "",
     "evalue": "",
     "output_type": "error",
     "traceback": [
      "\u001b[1;31mThe Kernel crashed while executing code in the the current cell or a previous cell. Please review the code in the cell(s) to identify a possible cause of the failure. Click <a href='https://aka.ms/vscodeJupyterKernelCrash'>here</a> for more info. View Jupyter <a href='command:jupyter.viewOutput'>log</a> for further details."
     ]
    }
   ],
   "source": [
    "env.init_viewer(viewer_title='UR5e with RG2 gripper',viewer_width=1200,viewer_height=800,\n",
    "                viewer_hide_menus=True)\n",
    "env.update_viewer(azimuth=0.0,distance=3.5,elevation=-60,lookat=[0.4,0.05,0.36],\n",
    "                  VIS_TRANSPARENT=False,VIS_CONTACTPOINT=True,\n",
    "                  contactwidth=0.05,contactheight=0.05,contactrgba=np.array([1,0,0,1]),\n",
    "                  VIS_JOINT=True,jointlength=0.5,jointwidth=0.1,jointrgba=[0.2,0.6,0.8,0.6])\n",
    "env.reset()\n",
    "env.forward(q=[-1.570521656666891, -2.311883111993307, 2.1441715399371546, 1.73920385419812, 0.7853929996490479, -1.5711215178119105], joint_idxs=env.idxs_forward)\n",
    "\n",
    "\n",
    "tick = 0\n",
    "while (env.get_sim_time() < 100.0) and env.is_viewer_alive():\n",
    "    tick = tick + 1\n",
    "    env.step(ctrl=q_ik, ctrl_idxs=env.idxs_forward)\n",
    "    # Render\n",
    "    p_tcp,R_tcp = env.get_pR_body(body_name='tcp_link')\n",
    "    p_cam,R_cam = env.get_pR_body(body_name='camera_center')\n",
    "    p_base,R_base = env.get_pR_body(body_name='base')\n",
    "    # env.plot_T(p=np.zeros(3),R=np.eye(3,3),PLOT_AXIS=True,axis_len=1.0,axis_width=0.01)\n",
    "    env.plot_T(p=p_tcp,R=R_tcp,PLOT_AXIS=True,axis_len=0.1,axis_width=0.0025,\n",
    "               label=f'TCP Position: {p_tcp}')\n",
    "    env.plot_T(p=p_cam,R=R_cam,PLOT_AXIS=True,axis_len=0.1,axis_width=0.0025,\n",
    "               label=f'Cam Position: {p_cam}')\n",
    "    # env.plot_T(p=p_base,R=R_base,PLOT_AXIS=True,axis_len=1.0,axis_width=0.01)\n",
    "    env.plot_T(p=p_base+np.array([0,0,0.5]),R=np.eye(3,3),\n",
    "                PLOT_AXIS=False,label='[%.2f]sec'%(env.get_sim_time()))\n",
    "    env.render()\n",
    "    if env.loop_every(HZ=1) or (tick == 1):\n",
    "        scene_img = env.grab_image()\n",
    "# Plot an image\n",
    "plt.figure(figsize=(5,4)); plt.imshow(scene_img)\n",
    "plt.title(\"Tick:[%d] Time:[%.2f]sec\"%(env.tick,env.get_sim_time()),fontsize=9)\n",
    "plt.show()\n",
    "# Close viewer\n",
    "env.close_viewer()\n",
    "print (\"Done.\")"
   ]
  },
  {
   "cell_type": "code",
   "execution_count": null,
   "metadata": {},
   "outputs": [],
   "source": []
  }
 ],
 "metadata": {
  "kernelspec": {
   "display_name": "Python 3",
   "language": "python",
   "name": "python3"
  },
  "language_info": {
   "codemirror_mode": {
    "name": "ipython",
    "version": 3
   },
   "file_extension": ".py",
   "mimetype": "text/x-python",
   "name": "python",
   "nbconvert_exporter": "python",
   "pygments_lexer": "ipython3",
   "version": "3.8.10"
  },
  "orig_nbformat": 4
 },
 "nbformat": 4,
 "nbformat_minor": 2
}
