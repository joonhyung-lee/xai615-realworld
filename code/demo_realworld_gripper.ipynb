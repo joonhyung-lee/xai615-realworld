{
 "cells": [
  {
   "cell_type": "markdown",
   "metadata": {},
   "source": [
    "### Move `Gripper`"
   ]
  },
  {
   "cell_type": "code",
   "execution_count": null,
   "metadata": {},
   "outputs": [],
   "source": [
    "\"\"\" FOR ONROBOT RG2 \"\"\"\n",
    "from pymodbus.client.sync import ModbusTcpClient\n",
    "\"\"\" FOR MODERN DRIVER \"\"\"\n",
    "import roslib; roslib.load_manifest('ur_driver')\n",
    "import rospy\n",
    "import sys\n",
    "sys.path.append(\"..\")\n",
    "from model.gripper import openGrasp, closeGrasp"
   ]
  },
  {
   "cell_type": "code",
   "execution_count": null,
   "metadata": {},
   "outputs": [],
   "source": [
    "def main(): \n",
    "    graspclient = ModbusTcpClient('192.168.0.22') \n",
    "    closeGrasp(force=200, width=100, graspclient=graspclient)\n",
    "    # openGrasp(force=200, width=700, graspclient=graspclient)\n",
    "\n",
    "main()"
   ]
  }
 ],
 "metadata": {
  "language_info": {
   "name": "python"
  },
  "orig_nbformat": 4
 },
 "nbformat": 4,
 "nbformat_minor": 2
}
