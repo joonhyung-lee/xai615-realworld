{
 "cells": [
  {
   "cell_type": "markdown",
   "metadata": {},
   "source": [
    "### Load Mujoco Engine"
   ]
  },
  {
   "cell_type": "code",
   "execution_count": 1,
   "metadata": {},
   "outputs": [
    {
     "name": "stdout",
     "output_type": "stream",
     "text": [
      "MuJoCo version:[2.3.4]\n"
     ]
    }
   ],
   "source": [
    "import mujoco\n",
    "import numpy as np\n",
    "import matplotlib.pyplot as plt\n",
    "import sys\n",
    "sys.path.append(\"..\")\n",
    "from model.mujoco_parser import MuJoCoParserClass\n",
    "from model.util import sample_xyzs,rpy2r,r2quat\n",
    "np.set_printoptions(precision=2,suppress=True,linewidth=100)\n",
    "plt.rc('xtick',labelsize=6); plt.rc('ytick',labelsize=6)\n",
    "%config InlineBackend.figure_format = 'retina'\n",
    "%matplotlib inline\n",
    "print (\"MuJoCo version:[%s]\"%(mujoco.__version__))"
   ]
  },
  {
   "cell_type": "markdown",
   "metadata": {},
   "source": [
    "### Parse"
   ]
  },
  {
   "cell_type": "code",
   "execution_count": 2,
   "metadata": {},
   "outputs": [
    {
     "name": "stdout",
     "output_type": "stream",
     "text": [
      "dt:[0.0020] HZ:[500]\n",
      "n_body:[52]\n",
      "geom_names:['floor', None, None, None, None, None, 'shoulder_link', None, None, None, None, 'upper_arm_link_1', 'upper_arm_link_2', None, None, None, None, 'forearm_link_1', 'forearm_link_2', None, None, None, 'wrist_1_link', None, None, None, 'wrist_2_link_1', 'wrist_2_link_2', None, 'wrist_3_link', 'tcp_link', 'camera_mount', 'camera_mounted_gear', 'rg2_gripper_base_link', 'camera_center', 'rg2_gripper_finger1_finger_link', 'rg2_gripper_finger1_inner_knuckle_link', 'rg2_gripper_finger1_finger_tip_link', 'rg2_gripper_finger2_finger_link', 'rg2_gripper_finger2_inner_knuckle_link', 'rg2_gripper_finger2_finger_tip_link', 'front_object_table', 'side_object_table', 'base_table', 'obj_cylinder_01', 'obj_cylinder_02', 'obj_cylinder_03', 'obj_cylinder_04', 'obj_cylinder_05', 'obj_cylinder_06', 'obj_cylinder_07', 'obj_cylinder_08']\n",
      "n_body:[29]\n",
      "body_names:['world', 'base', 'shoulder_link', 'upper_arm_link', 'forearm_link', 'wrist_1_link', 'wrist_2_link', 'wrist_3_link', 'tcp_link', 'camera_mount', 'rg2_gripper_base_link', 'camera_center', 'rg2_gripper_finger1_finger_link', 'rg2_gripper_finger1_inner_knuckle_link', 'rg2_gripper_finger1_finger_tip_link', 'rg2_gripper_finger2_finger_link', 'rg2_gripper_finger2_inner_knuckle_link', 'rg2_gripper_finger2_finger_tip_link', 'front_object_table', 'side_object_table', 'base_table', 'obj_cylinder_01', 'obj_cylinder_02', 'obj_cylinder_03', 'obj_cylinder_04', 'obj_cylinder_05', 'obj_cylinder_06', 'obj_cylinder_07', 'obj_cylinder_08']\n",
      "n_joint:[20]\n",
      "joint_names:['shoulder_pan_joint', 'shoulder_lift_joint', 'elbow_joint', 'wrist_1_joint', 'wrist_2_joint', 'wrist_3_joint', 'gripper_finger1_joint', 'gripper_finger1_inner_knuckle_joint', 'gripper_finger1_finger_tip_joint', 'gripper_finger2_joint', 'gripper_finger2_inner_knuckle_joint', 'gripper_finger2_finger_tip_joint', None, None, None, None, None, None, None, None]\n",
      "joint_types:[3 3 3 3 3 3 3 3 3 3 3 3 0 0 0 0 0 0 0 0]\n",
      "joint_ranges:\n",
      "[[-6.28  6.28]\n",
      " [-6.28  6.28]\n",
      " [-3.14  3.14]\n",
      " [-6.28  6.28]\n",
      " [-6.28  6.28]\n",
      " [-6.28  6.28]\n",
      " [-1.    0.  ]\n",
      " [-1.    0.  ]\n",
      " [-1.    1.  ]\n",
      " [ 0.    1.  ]\n",
      " [ 0.    1.  ]\n",
      " [-1.    1.  ]\n",
      " [-6.28  6.28]\n",
      " [-6.28  6.28]\n",
      " [-6.28  6.28]\n",
      " [-6.28  6.28]\n",
      " [-6.28  6.28]\n",
      " [-6.28  6.28]\n",
      " [-6.28  6.28]\n",
      " [-6.28  6.28]]\n",
      "n_rev_joint:[12]\n",
      "rev_joint_idxs:[ 0  1  2  3  4  5  6  7  8  9 10 11]\n",
      "rev_joint_names:['shoulder_pan_joint', 'shoulder_lift_joint', 'elbow_joint', 'wrist_1_joint', 'wrist_2_joint', 'wrist_3_joint', 'gripper_finger1_joint', 'gripper_finger1_inner_knuckle_joint', 'gripper_finger1_finger_tip_joint', 'gripper_finger2_joint', 'gripper_finger2_inner_knuckle_joint', 'gripper_finger2_finger_tip_joint']\n",
      "rev_joint_mins:[-6.28 -6.28 -3.14 -6.28 -6.28 -6.28 -1.   -1.   -1.    0.    0.   -1.  ]\n",
      "rev_joint_maxs:[6.28 6.28 3.14 6.28 6.28 6.28 0.   0.   1.   1.   1.   1.  ]\n",
      "rev_joint_ranges:[12.57 12.57  6.28 12.57 12.57 12.57  1.    1.    2.    1.    1.    2.  ]\n",
      "n_pri_joint:[0]\n",
      "pri_joint_idxs:[]\n",
      "pri_joint_names:[]\n",
      "pri_joint_mins:[]\n",
      "pri_joint_maxs:[]\n",
      "pri_joint_ranges:[]\n",
      "n_ctrl:[7]\n",
      "ctrl_names:['shoulder_pan', 'shoulder_lift', 'elbow', 'wrist_1', 'wrist_2', 'wrist_3', 'gripper']\n",
      "ctrl_joint_idxs:[0, 1, 2, 3, 4, 5, 9]\n",
      "ctrl_qvel_idxs:[0, 1, 2, 3, 4, 5, 9]\n",
      "ctrl_ranges:\n",
      "[[-6.28  6.28]\n",
      " [-6.28  6.28]\n",
      " [-3.14  3.14]\n",
      " [-6.28  6.28]\n",
      " [-6.28  6.28]\n",
      " [-6.28  6.28]\n",
      " [ 0.    1.  ]]\n",
      "n_sensor:[0]\n",
      "sensor_names:[]\n",
      "n_site:[1]\n",
      "site_names:['attachment_site']\n",
      "Ready.\n"
     ]
    }
   ],
   "source": [
    "xml_path = '../asset/ur5e/scene_ur5e_rg2_obj.xml'\n",
    "env = MuJoCoParserClass(name='UR5e with RG2 gripper',rel_xml_path=xml_path,VERBOSE=True)\n",
    "obj_names = [body_name for body_name in env.body_names\n",
    "             if body_name is not None and (body_name.startswith(\"obj_\"))]\n",
    "n_obj = len(obj_names)\n",
    "# Place objects in a row\n",
    "xyzs = sample_xyzs(n_sample=n_obj,\n",
    "                   x_range=[0.45,1.65],y_range=[-0.38,0.38],z_range=[0.81,0.81],min_dist=0.2)\n",
    "colors = np.array([plt.cm.gist_rainbow(x) for x in np.linspace(0,1,n_obj)])\n",
    "for obj_idx,obj_name in enumerate(obj_names):\n",
    "    jntadr = env.model.body(obj_name).jntadr[0]\n",
    "    env.model.joint(jntadr).qpos0[:3] = xyzs[obj_idx,:]\n",
    "    geomadr = env.model.body(obj_name).geomadr[0]\n",
    "    env.model.geom(geomadr).rgba = colors[obj_idx] # color\n",
    "\n",
    "# Move tables and robot base\n",
    "env.model.body('base_table').pos = np.array([0,0,0])\n",
    "env.model.body('front_object_table').pos = np.array([1.05,0,0])\n",
    "env.model.body('side_object_table').pos = np.array([0,-0.85,0])\n",
    "env.model.body('base').pos = np.array([0,0,0.8])\n",
    "print (\"Ready.\")"
   ]
  },
  {
   "cell_type": "code",
   "execution_count": 3,
   "metadata": {},
   "outputs": [],
   "source": [
    "joint_names = env.rev_joint_names[:6]\n",
    "idxs_forward = [env.model.joint(joint_name).qposadr[0] for joint_name in env.joint_names[:6]]\n",
    "idxs_jacobian = [env.model.joint(joint_name).dofadr[0] for joint_name in env.joint_names[:6]]\n",
    "list1, list2 = env.ctrl_joint_idxs, idxs_forward\n",
    "idxs_step = []\n",
    "for i in range(len(list2)):\n",
    "    if list2[i] not in list1:\n",
    "        idxs_step.append(list1.index(list2[i]))\n",
    "        "
   ]
  },
  {
   "cell_type": "code",
   "execution_count": 4,
   "metadata": {},
   "outputs": [],
   "source": [
    "joint_value = [-1.570521656666891, -2.311883111993307, 2.1441715399371546, 1.73920385419812, 0.7853929996490479, -1.5711215178119105]"
   ]
  },
  {
   "cell_type": "markdown",
   "metadata": {},
   "source": [
    "## Augmented Jacobian Inverse Kinematics"
   ]
  },
  {
   "cell_type": "code",
   "execution_count": 14,
   "metadata": {},
   "outputs": [
    {
     "name": "stdout",
     "output_type": "stream",
     "text": [
      "Pressed ESC\n",
      "Quitting.\n",
      "Done.\n"
     ]
    }
   ],
   "source": [
    "import math\n",
    "PI = math.pi\n",
    "\n",
    "env.init_viewer(viewer_title='IK using UR',viewer_width=1200,viewer_height=800,viewer_hide_menus=True)\n",
    "env.update_viewer(azimuth=0.0,distance=3.5,elevation=-60,lookat=[0.4,0.05,0.36])\n",
    "env.update_viewer(VIS_TRANSPARENT=False) # transparent\n",
    "env.reset() # reset\n",
    "\n",
    "# Set to initial joint values\n",
    "env.forward(q=joint_value, joint_idxs=idxs_forward)\n",
    "\n",
    "tcp_target = np.array([0.9, -0.2, 1.0])\n",
    "\n",
    "delta_p =  (env.get_p_body(\"tcp_link\")-env.get_p_body('wrist_3_link'))\n",
    "R_ = env.get_R_body(\"wrist_3_link\")\n",
    "p_offset = R_.T @ delta_p\n",
    "wrist3_target = tcp_target - p_offset[[1,0,2]]\n",
    "\n",
    "# Set (multiple) IK targets\n",
    "ik_body_names = ['tcp_link','wrist_3_link']\n",
    "ik_p_trgts = [tcp_target,\n",
    "              wrist3_target]\n",
    "ik_R_trgts = [rpy2r(np.array([0, 1*PI, -0.5 *PI])),\n",
    "              rpy2r(np.array([0, 0, 0]))]\n",
    "IK_Ps = [True,True]\n",
    "IK_Rs = [True,False]\n",
    "\n",
    "# Loop\n",
    "q = env.get_q(joint_idxs=idxs_jacobian)\n",
    "\n",
    "# q = env.data.qpos[16:22]\n",
    "imgs,img_ticks,max_tick = [],[],1000\n",
    "while (env.tick < max_tick) and env.is_viewer_alive():\n",
    "    # Numerical IK\n",
    "    J_aug,err_aug = [],[]\n",
    "    for ik_idx,ik_body_name in enumerate(ik_body_names):\n",
    "        p_trgt,R_trgt = ik_p_trgts[ik_idx],ik_R_trgts[ik_idx]\n",
    "        IK_P,IK_R = IK_Ps[ik_idx],IK_Rs[ik_idx]\n",
    "        J,err = env.get_ik_ingredients(\n",
    "            body_name=ik_body_name,p_trgt=p_trgt,R_trgt=R_trgt,IK_P=IK_P,IK_R=IK_R)\n",
    "        if (J is None) and (err is None): continue\n",
    "        if len(J_aug) == 0:\n",
    "            J_aug,err_aug = J,err\n",
    "        else:\n",
    "            J_aug   = np.concatenate((J_aug,J),axis=0)\n",
    "            err_aug = np.concatenate((err_aug,err),axis=0)\n",
    "    dq = env.damped_ls(J_aug,err_aug,stepsize=1,eps=1e-1,th=5*np.pi/180.0)\n",
    "\n",
    "    # Update q and FK\n",
    "    q = q + dq[idxs_jacobian]\n",
    "    env.forward(q=q,joint_idxs=idxs_forward)\n",
    "\n",
    "    # Render\n",
    "    for ik_idx,ik_body_name in enumerate(ik_body_names):\n",
    "        p_trgt,R_trgt = ik_p_trgts[ik_idx],ik_R_trgts[ik_idx]\n",
    "        IK_P,IK_R = IK_Ps[ik_idx],IK_Rs[ik_idx]\n",
    "        if (IK_P is None) and (IK_R is None): continue\n",
    "        env.plot_T(p=env.get_p_body(body_name=ik_body_name),R=env.get_R_body(body_name=ik_body_name),\n",
    "                   PLOT_AXIS=IK_R,axis_len=0.2,axis_width=0.01,\n",
    "                   PLOT_SPHERE=IK_P,sphere_r=0.05,sphere_rgba=[1,0,0,0.9])\n",
    "        env.plot_T(p=p_trgt,R=R_trgt,\n",
    "                   PLOT_AXIS=IK_R,axis_len=0.2,axis_width=0.01,\n",
    "                   PLOT_SPHERE=IK_P,sphere_r=0.05,sphere_rgba=[0,0,1,0.9])\n",
    "    env.plot_T(p=[0,0,0],R=np.eye(3,3),PLOT_AXIS=True,axis_len=1.0)\n",
    "    env.render()\n",
    "    # Print and save image \n",
    "    if (env.tick)%(max_tick//10)==0 or (env.tick==1):\n",
    "        print (\"[%d/%d] IK error:[%.4f]\"%(env.tick,max_tick,np.linalg.norm(err_aug)))\n",
    "        img = env.grab_image()\n",
    "        imgs.append(img)\n",
    "        img_ticks.append(env.tick)\n",
    "# Close viewers\n",
    "env.close_viewer()\n",
    "print (\"Done.\")"
   ]
  },
  {
   "cell_type": "code",
   "execution_count": null,
   "metadata": {},
   "outputs": [],
   "source": []
  }
 ],
 "metadata": {
  "kernelspec": {
   "display_name": "Python 3",
   "language": "python",
   "name": "python3"
  },
  "language_info": {
   "codemirror_mode": {
    "name": "ipython",
    "version": 3
   },
   "file_extension": ".py",
   "mimetype": "text/x-python",
   "name": "python",
   "nbconvert_exporter": "python",
   "pygments_lexer": "ipython3",
   "version": "3.8.10"
  },
  "orig_nbformat": 4
 },
 "nbformat": 4,
 "nbformat_minor": 2
}
